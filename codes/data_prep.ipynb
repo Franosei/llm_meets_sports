{
  "cells": [
    {
      "cell_type": "markdown",
      "metadata": {
        "colab_type": "text",
        "id": "view-in-github"
      },
      "source": [
        "<a href=\"https://colab.research.google.com/github/Franosei/LLM_Meets_Football/blob/main/codes/rag.ipynb\" target=\"_parent\"><img src=\"https://colab.research.google.com/assets/colab-badge.svg\" alt=\"Open In Colab\"/></a>"
      ]
    },
    {
      "cell_type": "code",
      "execution_count": 24,
      "metadata": {
        "id": "NKv73h2DPLbY"
      },
      "outputs": [],
      "source": [
        "import os\n",
        "import nest_asyncio\n",
        "nest_asyncio.apply()\n",
        "from llama_parse import LlamaParse \n",
        "from llama_index.core import SimpleDirectoryReader\n",
        "import pandas as pd\n",
        "from reportlab.lib.pagesizes import letter\n",
        "from reportlab.pdfgen import canvas\n",
        "from reportlab.lib import colors\n",
        "import PyPDF2\n"
      ]
    },
    {
      "cell_type": "code",
      "execution_count": null,
      "metadata": {},
      "outputs": [],
      "source": [
        "access_token = os.environ.get('HF_TOKEN')\n",
        "api_passer = os.environ.get(\"LLAMA_CLOUD_API_KEY\")"
      ]
    },
    {
      "cell_type": "code",
      "execution_count": null,
      "metadata": {},
      "outputs": [],
      "source": [
        "country_list = [\n",
        "    \"Germany\",\n",
        "    \"Albania\",\n",
        "    \"Austria\",\n",
        "    \"Belgium\",\n",
        "    \"Croatia\",\n",
        "    \"Czech Republic\",\n",
        "    \"Denmark\",\n",
        "    \"England\",\n",
        "    \"France\",\n",
        "    \"Hungary\",\n",
        "    \"Italy\",\n",
        "    \"Netherlands\",\n",
        "    \"Portugal\",\n",
        "    \"Romania\",\n",
        "    \"Scotland\",\n",
        "    \"Serbia\",\n",
        "    \"Slovakia\",\n",
        "    \"Slovenia\",\n",
        "    \"Spain\",\n",
        "    \"Switzerland\",\n",
        "    \"Turkey\"\n",
        "]"
      ]
    },
    {
      "cell_type": "code",
      "execution_count": null,
      "metadata": {},
      "outputs": [],
      "source": [
        "df1 = pd.read_csv(\"../Data/results.csv\")\n",
        "pattern = \"|\".join(country_list)\n",
        "\n",
        "# Apply the pattern to both columns and keep rows where at least one column matches\n",
        "filtered_df = df1[df1[\"home_team\"].str.contains(pattern) | df1[\"away_team\"].str.contains(pattern)]"
      ]
    },
    {
      "cell_type": "code",
      "execution_count": null,
      "metadata": {},
      "outputs": [],
      "source": [
        "# Creating the sentence\n",
        "sentences = []\n",
        "for _, row in filtered_df.iterrows():\n",
        "    sentence = f\"On {row['date']}, {row['home_team']} played against {row['away_team']} in {row['city']}, {row['country']}. The match was a {row['tournament']} and was{' not' if row['neutral'] else ''} played on neutral ground. The home team {row['home_team']} scored {row['home_score']} goals, while the away team {row['away_team']} scored {row['away_score']} goals.\"\n",
        "    sentences.append(sentence)\n",
        "\n",
        "sentences_df = pd.DataFrame(sentences, columns=['sentence'])\n",
        "sentences_df.to_csv(\"../Data/sentence.csv\",index=False)"
      ]
    },
    {
      "cell_type": "code",
      "execution_count": 78,
      "metadata": {},
      "outputs": [],
      "source": [
        "# Converting csv file to pdf\n",
        "\n",
        "def csv_to_pdf(csv_file, pdf_file):\n",
        "    data = pd.read_csv(csv_file)\n",
        "\n",
        "    c = canvas.Canvas(pdf_file, pagesize=letter)\n",
        "    width, height = letter \n",
        "    margin = 50\n",
        "    content_width = width - 2 * margin\n",
        "    text_height = 12\n",
        "    line_height = 14\n",
        "    \n",
        "    def create_new_page():\n",
        "        c.showPage()  \n",
        "        c.setFont(\"Helvetica\", 9) \n",
        "        c.drawString(margin, height - 40, \"\")\n",
        "        c.setFont(\"Helvetica\", 9)  \n",
        "        c.drawString(margin, height - 60, ' | '.join(data.columns))\n",
        "        return height - 74 \n",
        "\n",
        "    c.setFont(\"Helvetica\", 9)\n",
        "    y = height - 60\n",
        "    \n",
        "    # Add column names as a header\n",
        "    c.setFont(\"Helvetica\", 9)\n",
        "    c.drawString(margin, y, ' | '.join(data.columns))\n",
        "    y -= line_height\n",
        "    c.setFont(\"Helvetica\", 9)\n",
        "    \n",
        "    # Add rows from the DataFrame\n",
        "    for index, row in data.iterrows():\n",
        "        row_data = ' | '.join(str(x) for x in row)\n",
        "        row_width = c.stringWidth(row_data, \"Helvetica\", 9)\n",
        "        if row_width > content_width:\n",
        "            words = row_data.split()\n",
        "            wrapped_text = \"\"\n",
        "            current_line = \"\"\n",
        "            for word in words:\n",
        "                test_line = current_line + word + \" \"\n",
        "                test_line_width = c.stringWidth(test_line, \"Helvetica\", 9)\n",
        "                if test_line_width < content_width:\n",
        "                    current_line = test_line\n",
        "                else:\n",
        "                    wrapped_text += current_line.rstrip() + \"|\"\n",
        "                    current_line = word + \" \"\n",
        "            wrapped_text += current_line\n",
        "            for line in wrapped_text.split('|'):\n",
        "                if y < margin + line_height:\n",
        "                    y = create_new_page()\n",
        "                c.drawString(margin, y, line)\n",
        "                y -= line_height\n",
        "        else:\n",
        "            if y < margin + line_height:\n",
        "                y = create_new_page()\n",
        "            c.drawString(margin, y, row_data)\n",
        "            y -= line_height\n",
        "    \n",
        "    c.save()\n",
        "\n",
        "csv_file = '../Data/sentence.csv'\n",
        "pdf_file = '../Data/output.pdf'\n",
        "\n",
        "csv_to_pdf(csv_file, pdf_file)\n"
      ]
    },
    {
      "cell_type": "code",
      "execution_count": null,
      "metadata": {},
      "outputs": [],
      "source": [
        "# Merging two pdfs \n",
        "\n",
        "def merge_pdfs(paths, output='../Data/merged_file.pdf'):\n",
        "    pdf_writer = PyPDF2.PdfWriter()\n",
        "\n",
        "    # Loop through all the PDF files\n",
        "    for path in paths:\n",
        "        pdf_reader = PyPDF2.PdfReader(path)\n",
        "        # Add each page to the writer object\n",
        "        for page in range(len(pdf_reader.pages)):\n",
        "            pdf_writer.add_page(pdf_reader.pages[page])\n",
        "\n",
        "    # Write out the merged PDF to a file named 'euro_info.pdf'\n",
        "    with open(output, 'wb') as out:\n",
        "        pdf_writer.write(out)\n",
        "\n",
        "if __name__ == \"__main__\":\n",
        "    pdf_paths = ['../Data/output.pdf', '../Data/Eurosdata.pdf']\n",
        "\n",
        "    merge_pdfs(pdf_paths)\n",
        "\n",
        "pdf_paths = ['../Data/output.pdf', '../Data/Eurosdata.pdf']\n",
        "output_path = '../Data/merged_file.pdf'\n",
        "\n",
        "merge_pdfs(pdf_paths, output_path)\n"
      ]
    },
    {
      "cell_type": "code",
      "execution_count": 26,
      "metadata": {},
      "outputs": [],
      "source": [
        "parser = LlamaParse(\n",
        "    api_key = api_passer,\n",
        "    result_type=\"markdown\"\n",
        ")"
      ]
    },
    {
      "cell_type": "code",
      "execution_count": 27,
      "metadata": {},
      "outputs": [
        {
          "name": "stdout",
          "output_type": "stream",
          "text": [
            "Started parsing the file under job_id 63cc9dad-5b06-4ed1-9021-baaee592eba4\n"
          ]
        }
      ],
      "source": [
        "documents = await parser.aload_data('../Data/Eurosdata.pdf')"
      ]
    },
    {
      "cell_type": "code",
      "execution_count": 74,
      "metadata": {},
      "outputs": [],
      "source": []
    },
    {
      "cell_type": "code",
      "execution_count": 80,
      "metadata": {},
      "outputs": [],
      "source": []
    },
    {
      "cell_type": "code",
      "execution_count": 77,
      "metadata": {},
      "outputs": [
        {
          "data": {
            "text/html": [
              "<div>\n",
              "<style scoped>\n",
              "    .dataframe tbody tr th:only-of-type {\n",
              "        vertical-align: middle;\n",
              "    }\n",
              "\n",
              "    .dataframe tbody tr th {\n",
              "        vertical-align: top;\n",
              "    }\n",
              "\n",
              "    .dataframe thead th {\n",
              "        text-align: right;\n",
              "    }\n",
              "</style>\n",
              "<table border=\"1\" class=\"dataframe\">\n",
              "  <thead>\n",
              "    <tr style=\"text-align: right;\">\n",
              "      <th></th>\n",
              "      <th>sentence</th>\n",
              "    </tr>\n",
              "  </thead>\n",
              "  <tbody>\n",
              "    <tr>\n",
              "      <th>0</th>\n",
              "      <td>On 1872-11-30, Scotland played against England...</td>\n",
              "    </tr>\n",
              "    <tr>\n",
              "      <th>1</th>\n",
              "      <td>On 1873-03-08, England played against Scotland...</td>\n",
              "    </tr>\n",
              "    <tr>\n",
              "      <th>2</th>\n",
              "      <td>On 1874-03-07, Scotland played against England...</td>\n",
              "    </tr>\n",
              "    <tr>\n",
              "      <th>3</th>\n",
              "      <td>On 1875-03-06, England played against Scotland...</td>\n",
              "    </tr>\n",
              "    <tr>\n",
              "      <th>4</th>\n",
              "      <td>On 1876-03-04, Scotland played against England...</td>\n",
              "    </tr>\n",
              "    <tr>\n",
              "      <th>...</th>\n",
              "      <td>...</td>\n",
              "    </tr>\n",
              "    <tr>\n",
              "      <th>11281</th>\n",
              "      <td>On 2024-03-26, Norway played against Slovakia ...</td>\n",
              "    </tr>\n",
              "    <tr>\n",
              "      <th>11282</th>\n",
              "      <td>On 2024-03-26, Republic of Ireland played agai...</td>\n",
              "    </tr>\n",
              "    <tr>\n",
              "      <th>11283</th>\n",
              "      <td>On 2024-03-26, Scotland played against Norther...</td>\n",
              "    </tr>\n",
              "    <tr>\n",
              "      <th>11284</th>\n",
              "      <td>On 2024-03-26, Slovenia played against Portuga...</td>\n",
              "    </tr>\n",
              "    <tr>\n",
              "      <th>11285</th>\n",
              "      <td>On 2024-03-26, Spain played against Brazil in ...</td>\n",
              "    </tr>\n",
              "  </tbody>\n",
              "</table>\n",
              "<p>11286 rows × 1 columns</p>\n",
              "</div>"
            ],
            "text/plain": [
              "                                                sentence\n",
              "0      On 1872-11-30, Scotland played against England...\n",
              "1      On 1873-03-08, England played against Scotland...\n",
              "2      On 1874-03-07, Scotland played against England...\n",
              "3      On 1875-03-06, England played against Scotland...\n",
              "4      On 1876-03-04, Scotland played against England...\n",
              "...                                                  ...\n",
              "11281  On 2024-03-26, Norway played against Slovakia ...\n",
              "11282  On 2024-03-26, Republic of Ireland played agai...\n",
              "11283  On 2024-03-26, Scotland played against Norther...\n",
              "11284  On 2024-03-26, Slovenia played against Portuga...\n",
              "11285  On 2024-03-26, Spain played against Brazil in ...\n",
              "\n",
              "[11286 rows x 1 columns]"
            ]
          },
          "execution_count": 77,
          "metadata": {},
          "output_type": "execute_result"
        }
      ],
      "source": []
    },
    {
      "cell_type": "code",
      "execution_count": 79,
      "metadata": {},
      "outputs": [],
      "source": [
        "sentences_df.to_csv(\"../Data/sentence.csv\",index=False)"
      ]
    }
  ],
  "metadata": {
    "colab": {
      "include_colab_link": true,
      "provenance": []
    },
    "kernelspec": {
      "display_name": "Python 3",
      "name": "python3"
    },
    "language_info": {
      "codemirror_mode": {
        "name": "ipython",
        "version": 3
      },
      "file_extension": ".py",
      "mimetype": "text/x-python",
      "name": "python",
      "nbconvert_exporter": "python",
      "pygments_lexer": "ipython3",
      "version": "3.12.1"
    }
  },
  "nbformat": 4,
  "nbformat_minor": 0
}
