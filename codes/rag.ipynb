{
  "cells": [
    {
      "cell_type": "code",
      "execution_count": 1,
      "metadata": {
        "id": "WPzbK_q-ZZyk"
      },
      "outputs": [],
      "source": [
        "from IPython.display import clear_output\n",
        "import nest_asyncio\n",
        "nest_asyncio.apply()"
      ]
    },
    {
      "cell_type": "code",
      "source": [
        "\n",
        "!pip install ipykernel llama-index nest_asyncio llama-index-embeddings-huggingface llama-index-embeddings-instructor llama-index-llms-huggingface llama-index-readers-file pymupdf\n",
        "clear_output()"
      ],
      "metadata": {
        "id": "i5vBaeM2k0Aa"
      },
      "execution_count": 2,
      "outputs": []
    },
    {
      "cell_type": "code",
      "source": [
        "from llama_index.core import SimpleDirectoryReader\n",
        "from llama_index.core.node_parser import SentenceSplitter\n",
        "import os\n",
        "from typing import List, Optional\n",
        "from llama_index.llms.huggingface import (\n",
        "    HuggingFaceLLM\n",
        ")\n",
        "from llama_index.embeddings.huggingface import HuggingFaceEmbedding\n",
        "clear_output()\n",
        "from llama_index.core import SummaryIndex, VectorStoreIndex\n",
        "from llama_index.core.tools import QueryEngineTool\n",
        "from llama_index.core.query_engine.router_query_engine import RouterQueryEngine\n",
        "from llama_index.core.selectors import LLMSingleSelector\n",
        "from llama_index.core import set_global_tokenizer\n",
        "from transformers import AutoTokenizer\n",
        "from llama_index.core import Settings"
      ],
      "metadata": {
        "id": "bQNcaHOfaaEm"
      },
      "execution_count": 3,
      "outputs": []
    },
    {
      "cell_type": "code",
      "source": [
        "set_global_tokenizer(\n",
        "    AutoTokenizer.from_pretrained(\"microsoft/Phi-3-mini-128k-instruct\").encode\n",
        ")\n",
        "clear_output()"
      ],
      "metadata": {
        "id": "Mi5BPdEzcoC4"
      },
      "execution_count": 9,
      "outputs": []
    },
    {
      "cell_type": "code",
      "source": [
        "HF_TOKEN: Optional[str] = os.getenv(\"HUGGING_FACE_TOKEN\")"
      ],
      "metadata": {
        "id": "fHICoOB9ayvP"
      },
      "execution_count": 5,
      "outputs": []
    },
    {
      "cell_type": "code",
      "source": [
        "documents = SimpleDirectoryReader(input_files=['/content/final_doc.pdf']).load_data()"
      ],
      "metadata": {
        "id": "ZS5fW7TxbyG3",
        "outputId": "83b88c83-841c-4c79-b879-62a64f305567",
        "colab": {
          "base_uri": "https://localhost:8080/"
        }
      },
      "execution_count": 6,
      "outputs": [
        {
          "output_type": "stream",
          "name": "stderr",
          "text": [
            "WARNING:pypdf._reader:EOF marker not found\n",
            "WARNING:pypdf._reader:EOF marker not found\n"
          ]
        }
      ]
    }
  ],
  "metadata": {
    "language_info": {
      "name": "python"
    },
    "colab": {
      "provenance": [],
      "machine_shape": "hm",
      "gpuType": "A100"
    },
    "kernelspec": {
      "name": "python3",
      "display_name": "Python 3"
    },
    "accelerator": "GPU"
  },
  "nbformat": 4,
  "nbformat_minor": 0
}